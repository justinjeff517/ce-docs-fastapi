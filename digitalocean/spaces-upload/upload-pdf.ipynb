{
 "cells": [
  {
   "cell_type": "code",
   "execution_count": 1,
   "metadata": {},
   "outputs": [
    {
     "name": "stdout",
     "output_type": "stream",
     "text": [
      "File 'furniture-design.pdf' uploaded successfully to 'jef-general-bucket/furniture-design.pdf'\n"
     ]
    }
   ],
   "source": [
    "import boto3\n",
    "from botocore.exceptions import NoCredentialsError\n",
    "import os \n",
    "# Configuration\n",
    "SPACE_REGION = 'sgp1'\n",
    "SPACE_NAME = 'jef-general-bucket'  # Replace with your region, e.g., sgp1, nyc3\n",
    "ACCESS_KEY = os.getenv(\"SPACES_KEY\")\n",
    "SECRET_KEY = os.getenv(\"SPACES_SECRET\")\n",
    "ENDPOINT = os.getenv(\"SPACES_ENDPOINT\")\n",
    "\n",
    "# Create a session and client\n",
    "session = boto3.session.Session()\n",
    "client = session.client(\n",
    "    \"s3\",\n",
    "    region_name=SPACE_REGION,\n",
    "    endpoint_url=f\"https://{SPACE_REGION}.digitaloceanspaces.com\",\n",
    "    aws_access_key_id=ACCESS_KEY,\n",
    "    aws_secret_access_key=SECRET_KEY,\n",
    ")\n",
    "\n",
    "# Function to upload a file\n",
    "def upload_file_to_space(file_path, bucket_name, object_name=None):\n",
    "    if object_name is None:\n",
    "        object_name = file_path.split(\"/\")[-1]  # Use the file name as the object name\n",
    "\n",
    "    try:\n",
    "        # Upload the file\n",
    "        client.upload_file(file_path, bucket_name, object_name)\n",
    "        print(f\"File '{file_path}' uploaded successfully to '{bucket_name}/{object_name}'\")\n",
    "    except FileNotFoundError:\n",
    "        print(\"The file was not found\")\n",
    "    except NoCredentialsError:\n",
    "        print(\"Credentials not available\")\n",
    "    except Exception as e:\n",
    "        print(f\"An error occurred: {e}\")\n",
    "\n",
    "# Path to the PDF file you want to upload\n",
    "pdf_file_path = \"furniture-design.pdf\"\n",
    "\n",
    "# Upload the file\n",
    "upload_file_to_space(pdf_file_path, SPACE_NAME)\n"
   ]
  }
 ],
 "metadata": {
  "kernelspec": {
   "display_name": "venv",
   "language": "python",
   "name": "python3"
  },
  "language_info": {
   "codemirror_mode": {
    "name": "ipython",
    "version": 3
   },
   "file_extension": ".py",
   "mimetype": "text/x-python",
   "name": "python",
   "nbconvert_exporter": "python",
   "pygments_lexer": "ipython3",
   "version": "3.13.1"
  }
 },
 "nbformat": 4,
 "nbformat_minor": 2
}
