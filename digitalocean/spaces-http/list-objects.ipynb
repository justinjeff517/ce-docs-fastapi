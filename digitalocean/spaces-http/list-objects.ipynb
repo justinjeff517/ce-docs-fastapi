{
 "cells": [
  {
   "cell_type": "code",
   "execution_count": 10,
   "metadata": {},
   "outputs": [
    {
     "name": "stdout",
     "output_type": "stream",
     "text": [
      "HTTP Error: 400 Client Error: Bad Request for url: https://sgp1.digitaloceanspaces.com/jef-general-bucket?list-type=2\n"
     ]
    }
   ],
   "source": [
    "import requests\n",
    "import os \n",
    "from requests.auth import HTTPBasicAuth\n",
    "# Configuration for DigitalOcean Spaces\n",
    "SPACE_REGION = 'sgp1'\n",
    "SPACE_NAME = 'jef-general-bucket'  # Replace with your region, e.g., sgp1, nyc3\n",
    "ACCESS_KEY = os.getenv(\"SPACES_KEY\")\n",
    "SECRET_KEY = os.getenv(\"SPACES_SECRET\")\n",
    "ENDPOINT = os.getenv(\"SPACES_ENDPOINT\")\n",
    "# Initialize boto3 S3 client\n",
    "# List Objects URL\n",
    "LIST_OBJECTS_URL = ENDPOINT\n",
    "# Construct the base URL for the Space\n",
    "BASE_URL = f\"https://{SPACE_REGION}.digitaloceanspaces.com/{SPACE_NAME}\"\n",
    "\n",
    "def list_objects_v2():\n",
    "    try:\n",
    "        # Add required query parameters\n",
    "        params = {\n",
    "            \"list-type\": \"2\"  # Required for ListObjectsV2\n",
    "        }\n",
    "        \n",
    "        # Send GET request\n",
    "        response = requests.get(BASE_URL, params=params, auth=HTTPBasicAuth(ACCESS_KEY, SECRET_KEY))\n",
    "        \n",
    "        # Raise error for invalid response\n",
    "        response.raise_for_status()\n",
    "        \n",
    "        # Handle response (Spaces returns XML)\n",
    "        print(\"Response:\")\n",
    "        print(response.text)\n",
    "    except requests.exceptions.HTTPError as http_err:\n",
    "        print(f\"HTTP Error: {http_err}\")\n",
    "    except requests.exceptions.RequestException as req_err:\n",
    "        print(f\"Request Error: {req_err}\")\n",
    "    except Exception as e:\n",
    "        print(f\"Unexpected Error: {e}\")\n",
    "\n",
    "# Call the function\n",
    "list_objects_v2()\n",
    "\n",
    "\n"
   ]
  }
 ],
 "metadata": {
  "kernelspec": {
   "display_name": "venv",
   "language": "python",
   "name": "python3"
  },
  "language_info": {
   "codemirror_mode": {
    "name": "ipython",
    "version": 3
   },
   "file_extension": ".py",
   "mimetype": "text/x-python",
   "name": "python",
   "nbconvert_exporter": "python",
   "pygments_lexer": "ipython3",
   "version": "3.13.1"
  }
 },
 "nbformat": 4,
 "nbformat_minor": 2
}
