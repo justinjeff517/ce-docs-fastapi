{
 "cells": [
  {
   "cell_type": "code",
   "execution_count": 6,
   "metadata": {},
   "outputs": [
    {
     "name": "stdout",
     "output_type": "stream",
     "text": [
      "File 'furniture-design.pdf' downloaded successfully to 'E:/github2/ce-docs-fastapi/digitalocean/spaces-download/furniture-design.pdf'\n"
     ]
    }
   ],
   "source": [
    "import boto3\n",
    "from botocore.exceptions import NoCredentialsError\n",
    "import os \n",
    "# Configuration\n",
    "SPACE_REGION = 'sgp1'\n",
    "SPACE_NAME = 'jef-general-bucket'  # Replace with your region, e.g., sgp1, nyc3\n",
    "ACCESS_KEY = os.getenv(\"SPACES_KEY\")\n",
    "SECRET_KEY = os.getenv(\"SPACES_SECRET\")\n",
    "ENDPOINT = os.getenv(\"SPACES_ENDPOINT\")\n",
    "\n",
    "# Create a session and client\n",
    "session = boto3.session.Session()\n",
    "client = session.client(\n",
    "    \"s3\",\n",
    "    region_name=SPACE_REGION,\n",
    "    endpoint_url=f\"https://{SPACE_REGION}.digitaloceanspaces.com\",\n",
    "    aws_access_key_id=ACCESS_KEY,\n",
    "    aws_secret_access_key=SECRET_KEY,\n",
    ")\n",
    "# Function to download a file\n",
    "def download_file_from_space(bucket_name, object_name, download_path):\n",
    "    try:\n",
    "        # Download the file\n",
    "        client.download_file(bucket_name, object_name, download_path)\n",
    "        print(f\"File '{object_name}' downloaded successfully to '{download_path}'\")\n",
    "    except NoCredentialsError:\n",
    "        print(\"Credentials not available\")\n",
    "    except Exception as e:\n",
    "        print(f\"An error occurred: {e}\")\n",
    "\n",
    "# File details\n",
    "object_name = \"furniture-design.pdf\"  # The file path in your DigitalOcean Space\n",
    "download_path = \"E:/github2/ce-docs-fastapi/digitalocean/spaces-download/furniture-design.pdf\"  # Local path where the file will be saved\n",
    "\n",
    "# Download the file\n",
    "download_file_from_space(SPACE_NAME, object_name, download_path)"
   ]
  }
 ],
 "metadata": {
  "kernelspec": {
   "display_name": "venv",
   "language": "python",
   "name": "python3"
  },
  "language_info": {
   "codemirror_mode": {
    "name": "ipython",
    "version": 3
   },
   "file_extension": ".py",
   "mimetype": "text/x-python",
   "name": "python",
   "nbconvert_exporter": "python",
   "pygments_lexer": "ipython3",
   "version": "3.13.1"
  }
 },
 "nbformat": 4,
 "nbformat_minor": 2
}
