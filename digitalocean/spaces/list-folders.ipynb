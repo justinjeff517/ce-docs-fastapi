{
 "cells": [
  {
   "cell_type": "code",
   "execution_count": 6,
   "metadata": {},
   "outputs": [
    {
     "name": "stdout",
     "output_type": "stream",
     "text": [
      "Connecting to DigitalOcean Space...\n",
      "An unexpected error occurred: An error occurred (NoSuchKey) when calling the ListObjectsV2 operation: None\n"
     ]
    }
   ],
   "source": [
    "import os\n",
    "import boto3\n",
    "from botocore.exceptions import NoCredentialsError\n",
    "\n",
    "# Set up the S3 client\n",
    "session = boto3.session.Session()\n",
    "s3_client = session.client(\n",
    "    's3',\n",
    "    region_name=os.getenv('SPACES_REGION'),  # Ensure this matches your space's region\n",
    "    endpoint_url=os.getenv('SPACES_ENDPOINT'),\n",
    "    aws_access_key_id=os.getenv('SPACES_KEY'),\n",
    "    aws_secret_access_key=os.getenv('SPACES_SECRET')\n",
    ")\n",
    "\n",
    "# Specify the space (bucket) name\n",
    "space_name = os.getenv('SPACE_NAME')\n",
    "\n",
    "# List objects in the space\n",
    "def list_all_objects():\n",
    "    try:\n",
    "        print(\"Connecting to DigitalOcean Space...\")\n",
    "        \n",
    "        # Fetch list of objects\n",
    "        response = s3_client.list_objects_v2(Bucket=space_name)\n",
    "        \n",
    "        # Debugging: Print the raw response\n",
    "        print(\"Response:\", response)\n",
    "        \n",
    "        # Check if there are objects in the Space\n",
    "        if 'Contents' in response:\n",
    "            print(\"Objects found:\")\n",
    "            for obj in response['Contents']:\n",
    "                print(obj['Key'])\n",
    "        else:\n",
    "            print(\"No objects found in the Space.\")\n",
    "    \n",
    "    except NoCredentialsError:\n",
    "        print(\"Error: Credentials not available. Check your access key and secret key.\")\n",
    "    except Exception as e:\n",
    "        print(f\"An unexpected error occurred: {e}\")\n",
    "\n",
    "# Call the function\n",
    "list_all_objects()\n",
    "\n",
    "\n"
   ]
  },
  {
   "cell_type": "code",
   "execution_count": null,
   "metadata": {},
   "outputs": [],
   "source": []
  }
 ],
 "metadata": {
  "kernelspec": {
   "display_name": "venv",
   "language": "python",
   "name": "python3"
  },
  "language_info": {
   "codemirror_mode": {
    "name": "ipython",
    "version": 3
   },
   "file_extension": ".py",
   "mimetype": "text/x-python",
   "name": "python",
   "nbconvert_exporter": "python",
   "pygments_lexer": "ipython3",
   "version": "3.13.1"
  }
 },
 "nbformat": 4,
 "nbformat_minor": 2
}
