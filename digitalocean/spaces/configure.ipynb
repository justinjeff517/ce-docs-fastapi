{
 "cells": [
  {
   "cell_type": "code",
   "execution_count": 1,
   "metadata": {},
   "outputs": [],
   "source": [
    "import os\n",
    "import boto3\n",
    "\n",
    "session = boto3.session.Session()\n",
    "client = session.client('s3',\n",
    "                        region_name='sgp1',\n",
    "                        endpoint_url= os.getenv('SPACES_ENDPOINT'),\n",
    "                        aws_access_key_id=os.getenv('SPACES_KEY'),\n",
    "                        aws_secret_access_key=os.getenv('SPACES_SECRET'))\n"
   ]
  }
 ],
 "metadata": {
  "kernelspec": {
   "display_name": "venv",
   "language": "python",
   "name": "python3"
  },
  "language_info": {
   "codemirror_mode": {
    "name": "ipython",
    "version": 3
   },
   "file_extension": ".py",
   "mimetype": "text/x-python",
   "name": "python",
   "nbconvert_exporter": "python",
   "pygments_lexer": "ipython3",
   "version": "3.13.1"
  }
 },
 "nbformat": 4,
 "nbformat_minor": 2
}
