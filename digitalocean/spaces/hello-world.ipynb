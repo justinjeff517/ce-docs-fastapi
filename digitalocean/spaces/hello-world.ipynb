{
 "cells": [
  {
   "cell_type": "code",
   "execution_count": 10,
   "metadata": {},
   "outputs": [
    {
     "name": "stdout",
     "output_type": "stream",
     "text": [
      "An unexpected error occurred: SSL validation failed for https://jef-general-bucket.jef-general-bucket.sgp1.digitaloceanspaces.com/heollo-folder/hello-world.txt hostname 'jef-general-bucket.jef-general-bucket.sgp1.digitaloceanspaces.com' doesn't match either of '*.sgp1.digitaloceanspaces.com', 'sgp1.digitaloceanspaces.com'\n"
     ]
    }
   ],
   "source": [
    "import os\n",
    "from dotenv import load_dotenv\n",
    "import boto3\n",
    "from botocore.client import Config\n",
    "from botocore.exceptions import ClientError\n",
    "\n",
    "load_dotenv()\n",
    "\n",
    "# Get environment variables with error handling\n",
    "SPACES_ENDPOINT = os.getenv('SPACES_ENDPOINT')\n",
    "SPACES_KEY = os.getenv('SPACES_KEY')\n",
    "SPACES_SECRET = os.getenv('SPACES_SECRET')\n",
    "SPACE_NAME = os.getenv('SPACE_NAME')\n",
    "SPACE_REGION = os.getenv(\"SPACE_REGION\", \"sgp1\")\n",
    "\n",
    "required_vars = [\"SPACES_ENDPOINT\", \"SPACES_KEY\", \"SPACES_SECRET\", \"SPACE_NAME\"]\n",
    "missing_vars = [var for var in required_vars if os.getenv(var) is None]\n",
    "\n",
    "if missing_vars:\n",
    "    raise ValueError(f\"Missing required environment variables: {', '.join(missing_vars)}\")\n",
    "\n",
    "try:\n",
    "    session = boto3.session.Session()\n",
    "    client = session.client('s3',\n",
    "                            endpoint_url=SPACES_ENDPOINT,\n",
    "                            config=Config(s3={'addressing_style': 'virtual'}),\n",
    "                            region_name=SPACE_REGION,\n",
    "                            aws_access_key_id=SPACES_KEY,\n",
    "                            aws_secret_access_key=SPACES_SECRET)\n",
    "\n",
    "    # --- Upload Object ---\n",
    "    file_content = b'Hello, World!\\nThis is a test from the complete code.'\n",
    "    object_key = 'heollo-folder/hello-world.txt' # Change this if you want a different path/filename\n",
    "\n",
    "    try:\n",
    "        upload_response = client.put_object(Bucket=SPACE_NAME,\n",
    "                                     Key=object_key,\n",
    "                                     Body=file_content,\n",
    "                                     ACL='private',  # Or 'public-read'\n",
    "                                     Metadata={'x-amz-meta-my-key': 'your-value'})\n",
    "\n",
    "        if upload_response['ResponseMetadata']['HTTPStatusCode'] == 200:\n",
    "            print(f\"File '{object_key}' uploaded successfully to Space '{SPACE_NAME}'.\")\n",
    "        else:\n",
    "            print(f\"File upload failed. Response: {upload_response}\")\n",
    "    except ClientError as e:\n",
    "        print(f\"Upload Error: {e}\")\n",
    "\n",
    "    # --- List Objects ---\n",
    "    try:\n",
    "        list_response = client.list_objects_v2(Bucket=SPACE_NAME)\n",
    "        if 'Contents' in list_response:\n",
    "            print(\"\\nObjects in the bucket:\")\n",
    "            for obj in list_response['Contents']:\n",
    "                print(f\"  - {obj['Key']}\")\n",
    "        else:\n",
    "            print(\"\\nBucket is empty.\")\n",
    "    except ClientError as e:\n",
    "        print(f\"List Error: {e}\")\n",
    "\n",
    "\n",
    "except Exception as e:\n",
    "    print(f\"An unexpected error occurred: {e}\")"
   ]
  }
 ],
 "metadata": {
  "kernelspec": {
   "display_name": "venv",
   "language": "python",
   "name": "python3"
  },
  "language_info": {
   "codemirror_mode": {
    "name": "ipython",
    "version": 3
   },
   "file_extension": ".py",
   "mimetype": "text/x-python",
   "name": "python",
   "nbconvert_exporter": "python",
   "pygments_lexer": "ipython3",
   "version": "3.13.1"
  }
 },
 "nbformat": 4,
 "nbformat_minor": 2
}
