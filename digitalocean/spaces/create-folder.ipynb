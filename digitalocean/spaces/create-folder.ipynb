{
 "cells": [
  {
   "cell_type": "code",
   "execution_count": 7,
   "metadata": {},
   "outputs": [
    {
     "name": "stdout",
     "output_type": "stream",
     "text": [
      "Folder created successfully in the root: {'ResponseMetadata': {'RequestId': 'tx00000311f10a89881bfe3-00676e574c-3f4354f0-sgp1b', 'HostId': '', 'HTTPStatusCode': 200, 'HTTPHeaders': {'content-length': '0', 'etag': '\"d41d8cd98f00b204e9800998ecf8427e\"', 'accept-ranges': 'bytes', 'x-amz-request-id': 'tx00000311f10a89881bfe3-00676e574c-3f4354f0-sgp1b', 'date': 'Fri, 27 Dec 2024 07:29:16 GMT', 'strict-transport-security': 'max-age=15552000; includeSubDomains; preload', 'x-envoy-upstream-healthchecked-cluster': ''}, 'RetryAttempts': 0}, 'ETag': '\"d41d8cd98f00b204e9800998ecf8427e\"'}\n"
     ]
    }
   ],
   "source": [
    "import os\n",
    "import boto3\n",
    "\n",
    "# Initialize the S3 client\n",
    "session = boto3.session.Session()\n",
    "client = session.client('s3',\n",
    "                        region_name='sgp1',\n",
    "                        endpoint_url=os.getenv('SPACES_ENDPOINT'),\n",
    "                        aws_access_key_id=os.getenv('SPACES_KEY'),\n",
    "                        aws_secret_access_key=os.getenv('SPACES_SECRET'))\n",
    "\n",
    "space_name = os.getenv('SPACE_NAME')\n",
    "folder_name = 'root-folder/'  # Folder name in the root\n",
    "\n",
    "# Create the folder in the root by uploading an empty object\n",
    "response = client.put_object(Bucket=space_name, Key=folder_name)\n",
    "print(\"Folder created successfully in the root:\", response)\n"
   ]
  },
  {
   "cell_type": "code",
   "execution_count": null,
   "metadata": {},
   "outputs": [],
   "source": []
  }
 ],
 "metadata": {
  "kernelspec": {
   "display_name": "venv",
   "language": "python",
   "name": "python3"
  },
  "language_info": {
   "codemirror_mode": {
    "name": "ipython",
    "version": 3
   },
   "file_extension": ".py",
   "mimetype": "text/x-python",
   "name": "python",
   "nbconvert_exporter": "python",
   "pygments_lexer": "ipython3",
   "version": "3.13.1"
  }
 },
 "nbformat": 4,
 "nbformat_minor": 2
}
