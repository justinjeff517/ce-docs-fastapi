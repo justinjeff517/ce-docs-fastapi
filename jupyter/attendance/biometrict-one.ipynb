{
 "cells": [
  {
   "cell_type": "code",
   "execution_count": 4,
   "metadata": {},
   "outputs": [
    {
     "name": "stdout",
     "output_type": "stream",
     "text": [
      "Processed attendance data saved to days_present_output.csv\n"
     ]
    }
   ],
   "source": [
    "import pandas as pd\n",
    "\n",
    "# Load the data\n",
    "file_path = 'attendance-csv.csv'\n",
    "data = pd.read_csv(file_path)\n",
    "\n",
    "# Preprocessing: Clean and extract relevant data\n",
    "data = data.dropna(how='all', axis=0)  # Remove fully empty rows\n",
    "data = data.dropna(how='all', axis=1)  # Remove fully empty columns\n",
    "\n",
    "# Assuming the first few rows are metadata, find the header row and clean up\n",
    "header_row_index = data[data.iloc[:, 0].astype(str).str.contains('ID:', na=False)].index[0]\n",
    "data.columns = data.iloc[header_row_index]\n",
    "data = data[header_row_index + 1:].reset_index(drop=True)\n",
    "\n",
    "# Rename columns for clarity\n",
    "columns = list(data.columns)\n",
    "columns[0] = 'ID'\n",
    "columns[-1] = 'Department'\n",
    "data.columns = columns\n",
    "\n",
    "# Ensure attendance columns are strings for comparison\n",
    "attendance_columns = [col for col in columns[1:-1] if isinstance(col, str)]  # Exclude ID and Department columns\n",
    "for col in attendance_columns:\n",
    "    data[col] = data[col].notna().astype(int)\n",
    "\n",
    "# Function to calculate days present within a date range\n",
    "def calculate_days_present(data, start_date, end_date):\n",
    "    filtered_columns = [col for col in attendance_columns if start_date <= col <= end_date]\n",
    "    data['Days Present'] = data[filtered_columns].sum(axis=1)\n",
    "    return data[['ID', 'Days Present', 'Department']]\n",
    "\n",
    "# Define the date range (e.g., '16' to '20')\n",
    "start_date = '16'\n",
    "end_date = '20'\n",
    "\n",
    "# Process the data and output the result\n",
    "try:\n",
    "    result = calculate_days_present(data, start_date, end_date)\n",
    "    # Save or display the result\n",
    "    result_file_path = 'days_present_output.csv'\n",
    "    result.to_csv(result_file_path, index=False)\n",
    "    print(f\"Processed attendance data saved to {result_file_path}\")\n",
    "except Exception as e:\n",
    "    print(f\"An error occurred while processing the data: {e}\")\n"
   ]
  }
 ],
 "metadata": {
  "kernelspec": {
   "display_name": "venv",
   "language": "python",
   "name": "python3"
  },
  "language_info": {
   "codemirror_mode": {
    "name": "ipython",
    "version": 3
   },
   "file_extension": ".py",
   "mimetype": "text/x-python",
   "name": "python",
   "nbconvert_exporter": "python",
   "pygments_lexer": "ipython3",
   "version": "3.13.1"
  }
 },
 "nbformat": 4,
 "nbformat_minor": 2
}
