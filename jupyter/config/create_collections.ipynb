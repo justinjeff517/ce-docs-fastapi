{
 "cells": [
  {
   "cell_type": "code",
   "execution_count": null,
   "metadata": {},
   "outputs": [],
   "source": [
    "import os\n",
    "from pymongo import MongoClient\n",
    "from dotenv import load_dotenv\n",
    "\n",
    "# Load environment variables from a .env file\n",
    "load_dotenv()\n",
    "\n",
    "# Retrieve MongoDB credentials from environment variables\n",
    "MONGO_URI = os.getenv(\"MONGO_URI\")  # MongoDB connection string\n",
    "DATABASE_NAME = os.getenv(\"DATABASE_NAME\")  # Database name\n",
    "COLLECTION_NAME = os.getenv(\"COLLECTION_NAME\")  # Collection name\n",
    "\n",
    "# Check if required variables are set\n",
    "if not MONGO_URI or not DATABASE_NAME or not COLLECTION_NAME:\n",
    "    raise ValueError(\"Please set MONGO_URI, DATABASE_NAME, and COLLECTION_NAME in your .env file.\")\n",
    "\n",
    "# Connect to the MongoDB server\n",
    "client = MongoClient(MONGO_URI)\n",
    "\n",
    "# Access the specified database\n",
    "db = client[DATABASE_NAME]\n",
    "\n",
    "# Create or access the specified collection\n",
    "collection = db[COLLECTION_NAME]\n",
    "\n",
    "# Optional: Insert a test document to verify collection creation\n",
    "test_document = {\"message\": \"Collection successfully created!\"}\n",
    "insertion_result = collection.insert_one(test_document)\n",
    "\n",
    "print(f\"Collection '{COLLECTION_NAME}' created and test document inserted with ID: {insertion_result.inserted_id}\")\n",
    "\n",
    "# Close the connection\n",
    "client.close()\n"
   ]
  }
 ],
 "metadata": {
  "kernelspec": {
   "display_name": "venv",
   "language": "python",
   "name": "python3"
  },
  "language_info": {
   "name": "python",
   "version": "3.13.1"
  }
 },
 "nbformat": 4,
 "nbformat_minor": 2
}
